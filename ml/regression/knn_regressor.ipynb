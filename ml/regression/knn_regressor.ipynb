{
 "cells": [
  {
   "cell_type": "code",
   "execution_count": 16,
   "metadata": {
    "collapsed": true,
    "pycharm": {
     "name": "#%%\n"
    }
   },
   "outputs": [],
   "source": [
    "from sklearn.neighbors import KNeighborsRegressor\n",
    "import pandas as pd\n",
    "import math\n",
    "import numpy as np\n",
    "from itertools import combinations"
   ]
  },
  {
   "cell_type": "markdown",
   "source": [],
   "metadata": {
    "collapsed": false,
    "pycharm": {
     "name": "#%% md\n"
    }
   }
  },
  {
   "cell_type": "code",
   "execution_count": 17,
   "outputs": [],
   "source": [
    "df = pd.read_csv(\"data/imports-85-clean.csv\")\n",
    "df = df.loc[df[\"price\"] != '?']\n",
    "df = df.astype({\"price\": float}, errors='raise')\n",
    "sample_list = df.drop(columns=[\"price\"]).columns"
   ],
   "metadata": {
    "collapsed": false,
    "pycharm": {
     "name": "#%%\n"
    }
   }
  },
  {
   "cell_type": "code",
   "execution_count": 18,
   "outputs": [],
   "source": [
    "msk = np.random.rand(len(df)) < 0.9\n",
    "train = df[msk]\n",
    "test_cv = df[~msk]\n",
    "msk_cv = np.random.rand(len(test_cv)) < 0.7\n",
    "cv = test_cv[msk_cv]\n",
    "test = test_cv[~msk_cv]"
   ],
   "metadata": {
    "collapsed": false,
    "pycharm": {
     "name": "#%%\n"
    }
   }
  },
  {
   "cell_type": "code",
   "execution_count": 19,
   "outputs": [
    {
     "name": "stdout",
     "output_type": "stream",
     "text": [
      "0.7261004828192383\n",
      "1\n",
      "('symboling', 'normalized-losses', 'make', 'fuel-type', 'aspiration', 'num-of-doors', 'body-style', 'drive-wheels', 'engine-location', 'wheel-base', 'length', 'width', 'height', 'curb-weight', 'num-of-cylinders', 'engine-size', 'fuel-system', 'bore', 'stroke', 'compression-ratio', 'horsepower', 'peak-rpm', 'city-mpg', 'highway-mpg')\n",
      "24\n",
      "0.7644182878743029\n",
      "1\n",
      "('symboling', 'normalized-losses', 'make', 'fuel-type', 'aspiration', 'num-of-doors', 'body-style', 'drive-wheels', 'engine-location', 'wheel-base', 'length', 'width', 'height', 'curb-weight', 'num-of-cylinders', 'engine-size', 'bore', 'stroke', 'compression-ratio', 'horsepower', 'peak-rpm', 'city-mpg', 'highway-mpg')\n",
      "23\n",
      "0.8163583554297916\n",
      "2\n",
      "('symboling', 'normalized-losses', 'make', 'fuel-type', 'aspiration', 'num-of-doors', 'drive-wheels', 'engine-location', 'wheel-base', 'length', 'width', 'height', 'curb-weight', 'num-of-cylinders', 'engine-size', 'bore', 'stroke', 'compression-ratio', 'horsepower', 'peak-rpm', 'city-mpg', 'highway-mpg')\n",
      "22\n",
      "0.8255419989639629\n",
      "2\n",
      "('symboling', 'normalized-losses', 'make', 'aspiration', 'num-of-doors', 'drive-wheels', 'engine-location', 'wheel-base', 'length', 'width', 'height', 'curb-weight', 'num-of-cylinders', 'engine-size', 'bore', 'stroke', 'compression-ratio', 'horsepower', 'peak-rpm', 'city-mpg', 'highway-mpg')\n",
      "21\n",
      "0.8697315919809685\n",
      "2\n",
      "('symboling', 'normalized-losses', 'make', 'aspiration', 'num-of-doors', 'drive-wheels', 'engine-location', 'wheel-base', 'length', 'width', 'height', 'curb-weight', 'num-of-cylinders', 'engine-size', 'bore', 'stroke', 'horsepower', 'peak-rpm', 'city-mpg', 'highway-mpg')\n",
      "20\n",
      "0.8704407302127833\n",
      "2\n",
      "('symboling', 'normalized-losses', 'make', 'aspiration', 'drive-wheels', 'engine-location', 'wheel-base', 'length', 'width', 'height', 'curb-weight', 'num-of-cylinders', 'engine-size', 'bore', 'stroke', 'horsepower', 'peak-rpm', 'city-mpg', 'highway-mpg')\n",
      "19\n",
      "0.8705512191005432\n",
      "2\n",
      "('symboling', 'normalized-losses', 'make', 'aspiration', 'drive-wheels', 'engine-location', 'wheel-base', 'length', 'width', 'height', 'curb-weight', 'num-of-cylinders', 'engine-size', 'bore', 'stroke', 'horsepower', 'peak-rpm', 'city-mpg')\n",
      "18\n",
      "0.8705512191005432\n",
      "2\n",
      "('symboling', 'normalized-losses', 'make', 'aspiration', 'drive-wheels', 'engine-location', 'wheel-base', 'length', 'width', 'height', 'curb-weight', 'num-of-cylinders', 'engine-size', 'bore', 'stroke', 'peak-rpm', 'city-mpg')\n",
      "17\n",
      "0.8705512191005432\n",
      "2\n",
      "('symboling', 'normalized-losses', 'make', 'aspiration', 'drive-wheels', 'engine-location', 'wheel-base', 'length', 'width', 'height', 'curb-weight', 'num-of-cylinders', 'engine-size', 'bore', 'peak-rpm', 'city-mpg')\n",
      "16\n",
      "0.8705512191005432\n",
      "2\n",
      "('symboling', 'normalized-losses', 'make', 'aspiration', 'drive-wheels', 'engine-location', 'wheel-base', 'length', 'width', 'height', 'curb-weight', 'num-of-cylinders', 'engine-size', 'peak-rpm', 'city-mpg')\n",
      "15\n",
      "0.8705512191005432\n",
      "2\n",
      "('symboling', 'normalized-losses', 'make', 'aspiration', 'drive-wheels', 'engine-location', 'wheel-base', 'length', 'width', 'height', 'curb-weight', 'num-of-cylinders', 'peak-rpm', 'city-mpg')\n",
      "14\n",
      "0.8705512191005432\n",
      "2\n",
      "('symboling', 'normalized-losses', 'make', 'aspiration', 'drive-wheels', 'engine-location', 'wheel-base', 'length', 'width', 'height', 'curb-weight', 'peak-rpm', 'city-mpg')\n",
      "13\n",
      "0.8705512191005432\n",
      "2\n",
      "('symboling', 'normalized-losses', 'make', 'aspiration', 'drive-wheels', 'engine-location', 'wheel-base', 'length', 'width', 'curb-weight', 'peak-rpm', 'city-mpg')\n",
      "12\n",
      "0.8705512191005432\n",
      "2\n",
      "('symboling', 'normalized-losses', 'make', 'aspiration', 'drive-wheels', 'engine-location', 'wheel-base', 'length', 'width', 'curb-weight', 'city-mpg')\n",
      "11\n",
      "0.8705512191005432\n",
      "2\n",
      "('symboling', 'normalized-losses', 'make', 'aspiration', 'drive-wheels', 'engine-location', 'length', 'width', 'curb-weight', 'city-mpg')\n",
      "10\n",
      "0.8748193934179445\n",
      "2\n",
      "('symboling', 'normalized-losses', 'make', 'aspiration', 'drive-wheels', 'engine-location', 'width', 'curb-weight', 'city-mpg')\n",
      "9\n",
      "0.8748193934179445\n",
      "2\n",
      "('symboling', 'normalized-losses', 'make', 'aspiration', 'drive-wheels', 'width', 'curb-weight', 'city-mpg')\n",
      "8\n",
      "0.874041672158383\n",
      "2\n",
      "('symboling', 'make', 'aspiration', 'drive-wheels', 'width', 'curb-weight', 'city-mpg')\n",
      "7\n",
      "0.8965304319551168\n",
      "2\n",
      "('make', 'aspiration', 'drive-wheels', 'width', 'curb-weight', 'city-mpg')\n",
      "6\n",
      "0.881690833080348\n",
      "2\n",
      "('make', 'aspiration', 'drive-wheels', 'curb-weight', 'city-mpg')\n",
      "5\n",
      "0.8294397779959539\n",
      "2\n",
      "('make', 'aspiration', 'drive-wheels', 'city-mpg')\n",
      "4\n",
      "0.7879031405834815\n",
      "3\n",
      "('make', 'aspiration', 'city-mpg')\n",
      "3\n",
      "0.7556410601446278\n",
      "4\n",
      "('aspiration', 'city-mpg')\n",
      "2\n",
      "0.2609131129269442\n",
      "5\n",
      "('city-mpg',)\n",
      "1\n"
     ]
    }
   ],
   "source": [
    "list_combinations = list(combinations(sample_list, len(sample_list) - 1))\n",
    "best_best_score = 0\n",
    "best_best_k = -1\n",
    "best_best_c = None\n",
    "while len(list_combinations) > 0:\n",
    "\n",
    "    max_score = 0\n",
    "    best_k = -1\n",
    "    best_c = None\n",
    "    scores = []\n",
    "\n",
    "    for c in list_combinations:\n",
    "        if not c:\n",
    "            continue\n",
    "        for i in range(1, 6):\n",
    "            neigh = KNeighborsRegressor(n_neighbors=i)\n",
    "            x_train = train[np.asarray(c)]\n",
    "            y_train = train[\"price\"]\n",
    "            x_cv = cv[np.asarray(c)]\n",
    "            y_cv = cv[\"price\"]\n",
    "            neigh.fit(x_train, y_train)\n",
    "\n",
    "            y_pred = neigh.predict(x_cv)\n",
    "            score = neigh.score(x_cv, y_cv)\n",
    "            scores += (c, i, score)\n",
    "            if score > max_score:\n",
    "                max_score = score\n",
    "                best_k = i\n",
    "                best_c = c\n",
    "\n",
    "\n",
    "    if best_c is None:\n",
    "        break\n",
    "\n",
    "    print(max_score)\n",
    "    print(best_k)\n",
    "    print(best_c)\n",
    "    print(len(best_c))\n",
    "\n",
    "    if max_score > best_best_score:\n",
    "        best_best_score = max_score\n",
    "        best_best_k = best_k\n",
    "        best_best_c = best_c\n",
    "    list_combinations = list(combinations(best_c, len(best_c) - 1))"
   ],
   "metadata": {
    "collapsed": false,
    "pycharm": {
     "name": "#%%\n"
    }
   }
  },
  {
   "cell_type": "code",
   "execution_count": 20,
   "outputs": [
    {
     "name": "stdout",
     "output_type": "stream",
     "text": [
      "('make', 'aspiration', 'drive-wheels', 'width', 'curb-weight', 'city-mpg')\n",
      "2\n",
      "0.8965304319551168\n"
     ]
    }
   ],
   "source": [
    "print(best_best_c)\n",
    "print(best_best_k)\n",
    "print(best_best_score)"
   ],
   "metadata": {
    "collapsed": false,
    "pycharm": {
     "name": "#%%\n"
    }
   }
  },
  {
   "cell_type": "code",
   "execution_count": 21,
   "outputs": [
    {
     "name": "stdout",
     "output_type": "stream",
     "text": [
      "0.9464018999299919\n"
     ]
    }
   ],
   "source": [
    "neigh = KNeighborsRegressor(n_neighbors=best_best_k)\n",
    "x_train = train[np.asarray(best_best_c)]\n",
    "y_train = train[\"price\"]\n",
    "x_test = test[np.asarray(best_best_c)]\n",
    "y_test = test[\"price\"]\n",
    "neigh.fit(x_train, y_train)\n",
    "y_pred = neigh.predict(x_test)\n",
    "print(neigh.score(x_test, y_test))"
   ],
   "metadata": {
    "collapsed": false,
    "pycharm": {
     "name": "#%%\n"
    }
   }
  }
 ],
 "metadata": {
  "kernelspec": {
   "display_name": "Python 3",
   "language": "python",
   "name": "python3"
  },
  "language_info": {
   "codemirror_mode": {
    "name": "ipython",
    "version": 2
   },
   "file_extension": ".py",
   "mimetype": "text/x-python",
   "name": "python",
   "nbconvert_exporter": "python",
   "pygments_lexer": "ipython2",
   "version": "2.7.6"
  }
 },
 "nbformat": 4,
 "nbformat_minor": 0
}