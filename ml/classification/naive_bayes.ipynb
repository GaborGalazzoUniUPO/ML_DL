{
 "cells": [
  {
   "cell_type": "code",
   "execution_count": 1,
   "metadata": {
    "collapsed": true,
    "pycharm": {
     "name": "#%%\n"
    }
   },
   "outputs": [],
   "source": [
    "import pandas as pd\n",
    "import math\n",
    "import numpy as np"
   ]
  },
  {
   "cell_type": "code",
   "execution_count": 38,
   "outputs": [
    {
     "ename": "KeyError",
     "evalue": "'price'",
     "output_type": "error",
     "traceback": [
      "\u001B[1;31m---------------------------------------------------------------------------\u001B[0m",
      "\u001B[1;31mKeyError\u001B[0m                                  Traceback (most recent call last)",
      "File \u001B[1;32mD:\\INSTALLER\\anaconda3\\envs\\ml_dl_uni\\lib\\site-packages\\pandas\\core\\indexes\\base.py:3621\u001B[0m, in \u001B[0;36mIndex.get_loc\u001B[1;34m(self, key, method, tolerance)\u001B[0m\n\u001B[0;32m   3620\u001B[0m \u001B[38;5;28;01mtry\u001B[39;00m:\n\u001B[1;32m-> 3621\u001B[0m     \u001B[38;5;28;01mreturn\u001B[39;00m \u001B[38;5;28;43mself\u001B[39;49m\u001B[38;5;241;43m.\u001B[39;49m\u001B[43m_engine\u001B[49m\u001B[38;5;241;43m.\u001B[39;49m\u001B[43mget_loc\u001B[49m\u001B[43m(\u001B[49m\u001B[43mcasted_key\u001B[49m\u001B[43m)\u001B[49m\n\u001B[0;32m   3622\u001B[0m \u001B[38;5;28;01mexcept\u001B[39;00m \u001B[38;5;167;01mKeyError\u001B[39;00m \u001B[38;5;28;01mas\u001B[39;00m err:\n",
      "File \u001B[1;32mD:\\INSTALLER\\anaconda3\\envs\\ml_dl_uni\\lib\\site-packages\\pandas\\_libs\\index.pyx:136\u001B[0m, in \u001B[0;36mpandas._libs.index.IndexEngine.get_loc\u001B[1;34m()\u001B[0m\n",
      "File \u001B[1;32mD:\\INSTALLER\\anaconda3\\envs\\ml_dl_uni\\lib\\site-packages\\pandas\\_libs\\index.pyx:163\u001B[0m, in \u001B[0;36mpandas._libs.index.IndexEngine.get_loc\u001B[1;34m()\u001B[0m\n",
      "File \u001B[1;32mpandas\\_libs\\hashtable_class_helper.pxi:5198\u001B[0m, in \u001B[0;36mpandas._libs.hashtable.PyObjectHashTable.get_item\u001B[1;34m()\u001B[0m\n",
      "File \u001B[1;32mpandas\\_libs\\hashtable_class_helper.pxi:5206\u001B[0m, in \u001B[0;36mpandas._libs.hashtable.PyObjectHashTable.get_item\u001B[1;34m()\u001B[0m\n",
      "\u001B[1;31mKeyError\u001B[0m: 'price'",
      "\nThe above exception was the direct cause of the following exception:\n",
      "\u001B[1;31mKeyError\u001B[0m                                  Traceback (most recent call last)",
      "Input \u001B[1;32mIn [38]\u001B[0m, in \u001B[0;36m<cell line: 2>\u001B[1;34m()\u001B[0m\n\u001B[0;32m      1\u001B[0m df \u001B[38;5;241m=\u001B[39m pd\u001B[38;5;241m.\u001B[39mread_csv(\u001B[38;5;124m\"\u001B[39m\u001B[38;5;124mdata/original_dataset.csv\u001B[39m\u001B[38;5;124m\"\u001B[39m)\n\u001B[1;32m----> 2\u001B[0m df \u001B[38;5;241m=\u001B[39m df\u001B[38;5;241m.\u001B[39mwhere(\u001B[43mdf\u001B[49m\u001B[43m[\u001B[49m\u001B[38;5;124;43m\"\u001B[39;49m\u001B[38;5;124;43mprice\u001B[39;49m\u001B[38;5;124;43m\"\u001B[39;49m\u001B[43m]\u001B[49m \u001B[38;5;241m!=\u001B[39m \u001B[38;5;124m'\u001B[39m\u001B[38;5;124m?\u001B[39m\u001B[38;5;124m'\u001B[39m)\n\u001B[0;32m      3\u001B[0m msk \u001B[38;5;241m=\u001B[39m np\u001B[38;5;241m.\u001B[39mrandom\u001B[38;5;241m.\u001B[39mrand(\u001B[38;5;28mlen\u001B[39m(df)) \u001B[38;5;241m<\u001B[39m \u001B[38;5;241m0.8\u001B[39m\n\u001B[0;32m      4\u001B[0m train \u001B[38;5;241m=\u001B[39m df[msk]\n",
      "File \u001B[1;32mD:\\INSTALLER\\anaconda3\\envs\\ml_dl_uni\\lib\\site-packages\\pandas\\core\\frame.py:3505\u001B[0m, in \u001B[0;36mDataFrame.__getitem__\u001B[1;34m(self, key)\u001B[0m\n\u001B[0;32m   3503\u001B[0m \u001B[38;5;28;01mif\u001B[39;00m \u001B[38;5;28mself\u001B[39m\u001B[38;5;241m.\u001B[39mcolumns\u001B[38;5;241m.\u001B[39mnlevels \u001B[38;5;241m>\u001B[39m \u001B[38;5;241m1\u001B[39m:\n\u001B[0;32m   3504\u001B[0m     \u001B[38;5;28;01mreturn\u001B[39;00m \u001B[38;5;28mself\u001B[39m\u001B[38;5;241m.\u001B[39m_getitem_multilevel(key)\n\u001B[1;32m-> 3505\u001B[0m indexer \u001B[38;5;241m=\u001B[39m \u001B[38;5;28;43mself\u001B[39;49m\u001B[38;5;241;43m.\u001B[39;49m\u001B[43mcolumns\u001B[49m\u001B[38;5;241;43m.\u001B[39;49m\u001B[43mget_loc\u001B[49m\u001B[43m(\u001B[49m\u001B[43mkey\u001B[49m\u001B[43m)\u001B[49m\n\u001B[0;32m   3506\u001B[0m \u001B[38;5;28;01mif\u001B[39;00m is_integer(indexer):\n\u001B[0;32m   3507\u001B[0m     indexer \u001B[38;5;241m=\u001B[39m [indexer]\n",
      "File \u001B[1;32mD:\\INSTALLER\\anaconda3\\envs\\ml_dl_uni\\lib\\site-packages\\pandas\\core\\indexes\\base.py:3623\u001B[0m, in \u001B[0;36mIndex.get_loc\u001B[1;34m(self, key, method, tolerance)\u001B[0m\n\u001B[0;32m   3621\u001B[0m     \u001B[38;5;28;01mreturn\u001B[39;00m \u001B[38;5;28mself\u001B[39m\u001B[38;5;241m.\u001B[39m_engine\u001B[38;5;241m.\u001B[39mget_loc(casted_key)\n\u001B[0;32m   3622\u001B[0m \u001B[38;5;28;01mexcept\u001B[39;00m \u001B[38;5;167;01mKeyError\u001B[39;00m \u001B[38;5;28;01mas\u001B[39;00m err:\n\u001B[1;32m-> 3623\u001B[0m     \u001B[38;5;28;01mraise\u001B[39;00m \u001B[38;5;167;01mKeyError\u001B[39;00m(key) \u001B[38;5;28;01mfrom\u001B[39;00m \u001B[38;5;21;01merr\u001B[39;00m\n\u001B[0;32m   3624\u001B[0m \u001B[38;5;28;01mexcept\u001B[39;00m \u001B[38;5;167;01mTypeError\u001B[39;00m:\n\u001B[0;32m   3625\u001B[0m     \u001B[38;5;66;03m# If we have a listlike key, _check_indexing_error will raise\u001B[39;00m\n\u001B[0;32m   3626\u001B[0m     \u001B[38;5;66;03m#  InvalidIndexError. Otherwise we fall through and re-raise\u001B[39;00m\n\u001B[0;32m   3627\u001B[0m     \u001B[38;5;66;03m#  the TypeError.\u001B[39;00m\n\u001B[0;32m   3628\u001B[0m     \u001B[38;5;28mself\u001B[39m\u001B[38;5;241m.\u001B[39m_check_indexing_error(key)\n",
      "\u001B[1;31mKeyError\u001B[0m: 'price'"
     ]
    }
   ],
   "source": [
    "df = pd.read_csv(\"data/original_dataset.csv\")\n",
    "msk = np.random.rand(len(df)) < 0.8\n",
    "train = df[msk]\n",
    "test = df[~msk]"
   ],
   "metadata": {
    "collapsed": false,
    "pycharm": {
     "name": "#%%\n"
    }
   }
  },
  {
   "cell_type": "code",
   "execution_count": 4,
   "outputs": [],
   "source": [
    "def norm(x, mean, std):\n",
    "    return (1 / (math.sqrt(2 * math.pi) * std)) * math.exp(-(math.pow(x - mean, 2))/(2 * math.pow(std, 2)))"
   ],
   "metadata": {
    "collapsed": false,
    "pycharm": {
     "name": "#%%\n"
    }
   }
  },
  {
   "cell_type": "code",
   "execution_count": 5,
   "outputs": [],
   "source": [
    "def generate_bayesian_model(df: pd.DataFrame, target):\n",
    "    model = {'classes': df[target].unique(), 'target': target}\n",
    "    for c in model['classes']:\n",
    "        model[c] = {}\n",
    "        for col in df.columns:\n",
    "            if col != target:\n",
    "                model[c][col] = {}\n",
    "                model[c][col]['mean']  = df.where(df[target] == c)[col].mean()\n",
    "                model[c][col]['std'] = df.where(df[target] == c)[col].std()\n",
    "    return model"
   ],
   "metadata": {
    "collapsed": false,
    "pycharm": {
     "name": "#%%\n"
    }
   }
  },
  {
   "cell_type": "code",
   "execution_count": 6,
   "outputs": [],
   "source": [
    "def compute_model(model, row):\n",
    "    target = None\n",
    "    p = -1\n",
    "    for c in model['classes']:\n",
    "        val = 1\n",
    "        for col in model[c]:\n",
    "            val = val * norm(row[col], model[c][col]['mean'], model[c][col]['std'])\n",
    "        if val > p:\n",
    "            target = c\n",
    "            p = val\n",
    "    row['prediction'] = target\n",
    "    row['accuracy'] = p\n",
    "    return row\n"
   ],
   "metadata": {
    "collapsed": false,
    "pycharm": {
     "name": "#%%\n"
    }
   }
  },
  {
   "cell_type": "code",
   "execution_count": 7,
   "outputs": [],
   "source": [
    "def predict(model, df: pd.DataFrame):\n",
    "    return df.apply(lambda x: compute_model(model, x), axis=1, result_type='expand')"
   ],
   "metadata": {
    "collapsed": false,
    "pycharm": {
     "name": "#%%\n"
    }
   }
  },
  {
   "cell_type": "code",
   "execution_count": 8,
   "outputs": [],
   "source": [
    "model = generate_bayesian_model(train, \"stabf\")"
   ],
   "metadata": {
    "collapsed": false,
    "pycharm": {
     "name": "#%%\n"
    }
   }
  },
  {
   "cell_type": "code",
   "execution_count": 9,
   "outputs": [],
   "source": [
    "result = predict(model, test)"
   ],
   "metadata": {
    "collapsed": false,
    "pycharm": {
     "name": "#%%\n"
    }
   }
  },
  {
   "cell_type": "code",
   "execution_count": 10,
   "outputs": [
    {
     "data": {
      "text/plain": "          tau1      tau2      tau3      tau4        p1        p2        p3  \\\n10    5.930110  6.730873  6.245138  0.533288  2.327092 -0.702501 -1.116920   \n23    5.973186  6.043118  5.996045  1.076940  3.828218 -0.989549 -1.079026   \n28    1.807819  7.020356  6.676929  5.169648  3.672288 -1.188471 -0.819164   \n31    3.432549  0.944068  3.324771  7.735356  4.134624 -1.495949 -1.398690   \n32    4.780713  8.453343  2.755188  4.249789  4.112105 -1.154158 -1.158403   \n...        ...       ...       ...       ...       ...       ...       ...   \n9976  7.063097  3.897790  3.667961  7.953410  4.632592 -1.146609 -1.850362   \n9979  7.512814  9.616251  8.045889  2.200809  2.377325 -0.688485 -0.703106   \n9980  4.141337  1.112868  8.400888  1.869624  3.671563 -0.699052 -1.513896   \n9987  3.176332  5.101491  8.134258  4.985496  3.031084 -0.957564 -1.102893   \n9996  3.392299  1.274827  2.954947  6.894759  4.349512 -1.663661 -0.952437   \n\n            p4        g1        g2        g3        g4      stab     stabf  \\\n10   -0.507671  0.239816  0.563110  0.164461  0.753701 -0.028411    stable   \n23   -1.759643  0.350475  0.128154  0.548861  0.503974 -0.023013    stable   \n28   -1.664653  0.127658  0.160127  0.171724  0.838404 -0.008638    stable   \n31   -1.239985  0.408974  0.392226  0.330909  0.655999 -0.022913    stable   \n32   -1.799544  0.063362  0.987507  0.791912  0.292634  0.021234  unstable   \n...        ...       ...       ...       ...       ...       ...       ...   \n9976 -1.635621  0.537054  0.464419  0.565545  0.164245  0.014090  unstable   \n9979 -0.985733  0.118933  0.280216  0.932764  0.967001  0.018994  unstable   \n9980 -1.458615  0.081811  0.094963  0.662959  0.169682 -0.032192    stable   \n9987 -0.970628  0.527206  0.774756  0.180754  0.209837  0.010610  unstable   \n9996 -1.733414  0.502079  0.567242  0.285880  0.366120 -0.025803    stable   \n\n     prediction      accuracy  \n10       stable  1.297865e-05  \n23       stable  1.021933e-03  \n28       stable  6.939109e-05  \n31       stable  2.142907e-03  \n32     unstable  3.099247e-05  \n...         ...           ...  \n9976   unstable  1.551174e-04  \n9979   unstable  4.836866e-07  \n9980     stable  4.782983e-05  \n9987   unstable  1.443248e-04  \n9996     stable  9.375329e-04  \n\n[2026 rows x 16 columns]",
      "text/html": "<div>\n<style scoped>\n    .dataframe tbody tr th:only-of-type {\n        vertical-align: middle;\n    }\n\n    .dataframe tbody tr th {\n        vertical-align: top;\n    }\n\n    .dataframe thead th {\n        text-align: right;\n    }\n</style>\n<table border=\"1\" class=\"dataframe\">\n  <thead>\n    <tr style=\"text-align: right;\">\n      <th></th>\n      <th>tau1</th>\n      <th>tau2</th>\n      <th>tau3</th>\n      <th>tau4</th>\n      <th>p1</th>\n      <th>p2</th>\n      <th>p3</th>\n      <th>p4</th>\n      <th>g1</th>\n      <th>g2</th>\n      <th>g3</th>\n      <th>g4</th>\n      <th>stab</th>\n      <th>stabf</th>\n      <th>prediction</th>\n      <th>accuracy</th>\n    </tr>\n  </thead>\n  <tbody>\n    <tr>\n      <th>10</th>\n      <td>5.930110</td>\n      <td>6.730873</td>\n      <td>6.245138</td>\n      <td>0.533288</td>\n      <td>2.327092</td>\n      <td>-0.702501</td>\n      <td>-1.116920</td>\n      <td>-0.507671</td>\n      <td>0.239816</td>\n      <td>0.563110</td>\n      <td>0.164461</td>\n      <td>0.753701</td>\n      <td>-0.028411</td>\n      <td>stable</td>\n      <td>stable</td>\n      <td>1.297865e-05</td>\n    </tr>\n    <tr>\n      <th>23</th>\n      <td>5.973186</td>\n      <td>6.043118</td>\n      <td>5.996045</td>\n      <td>1.076940</td>\n      <td>3.828218</td>\n      <td>-0.989549</td>\n      <td>-1.079026</td>\n      <td>-1.759643</td>\n      <td>0.350475</td>\n      <td>0.128154</td>\n      <td>0.548861</td>\n      <td>0.503974</td>\n      <td>-0.023013</td>\n      <td>stable</td>\n      <td>stable</td>\n      <td>1.021933e-03</td>\n    </tr>\n    <tr>\n      <th>28</th>\n      <td>1.807819</td>\n      <td>7.020356</td>\n      <td>6.676929</td>\n      <td>5.169648</td>\n      <td>3.672288</td>\n      <td>-1.188471</td>\n      <td>-0.819164</td>\n      <td>-1.664653</td>\n      <td>0.127658</td>\n      <td>0.160127</td>\n      <td>0.171724</td>\n      <td>0.838404</td>\n      <td>-0.008638</td>\n      <td>stable</td>\n      <td>stable</td>\n      <td>6.939109e-05</td>\n    </tr>\n    <tr>\n      <th>31</th>\n      <td>3.432549</td>\n      <td>0.944068</td>\n      <td>3.324771</td>\n      <td>7.735356</td>\n      <td>4.134624</td>\n      <td>-1.495949</td>\n      <td>-1.398690</td>\n      <td>-1.239985</td>\n      <td>0.408974</td>\n      <td>0.392226</td>\n      <td>0.330909</td>\n      <td>0.655999</td>\n      <td>-0.022913</td>\n      <td>stable</td>\n      <td>stable</td>\n      <td>2.142907e-03</td>\n    </tr>\n    <tr>\n      <th>32</th>\n      <td>4.780713</td>\n      <td>8.453343</td>\n      <td>2.755188</td>\n      <td>4.249789</td>\n      <td>4.112105</td>\n      <td>-1.154158</td>\n      <td>-1.158403</td>\n      <td>-1.799544</td>\n      <td>0.063362</td>\n      <td>0.987507</td>\n      <td>0.791912</td>\n      <td>0.292634</td>\n      <td>0.021234</td>\n      <td>unstable</td>\n      <td>unstable</td>\n      <td>3.099247e-05</td>\n    </tr>\n    <tr>\n      <th>...</th>\n      <td>...</td>\n      <td>...</td>\n      <td>...</td>\n      <td>...</td>\n      <td>...</td>\n      <td>...</td>\n      <td>...</td>\n      <td>...</td>\n      <td>...</td>\n      <td>...</td>\n      <td>...</td>\n      <td>...</td>\n      <td>...</td>\n      <td>...</td>\n      <td>...</td>\n      <td>...</td>\n    </tr>\n    <tr>\n      <th>9976</th>\n      <td>7.063097</td>\n      <td>3.897790</td>\n      <td>3.667961</td>\n      <td>7.953410</td>\n      <td>4.632592</td>\n      <td>-1.146609</td>\n      <td>-1.850362</td>\n      <td>-1.635621</td>\n      <td>0.537054</td>\n      <td>0.464419</td>\n      <td>0.565545</td>\n      <td>0.164245</td>\n      <td>0.014090</td>\n      <td>unstable</td>\n      <td>unstable</td>\n      <td>1.551174e-04</td>\n    </tr>\n    <tr>\n      <th>9979</th>\n      <td>7.512814</td>\n      <td>9.616251</td>\n      <td>8.045889</td>\n      <td>2.200809</td>\n      <td>2.377325</td>\n      <td>-0.688485</td>\n      <td>-0.703106</td>\n      <td>-0.985733</td>\n      <td>0.118933</td>\n      <td>0.280216</td>\n      <td>0.932764</td>\n      <td>0.967001</td>\n      <td>0.018994</td>\n      <td>unstable</td>\n      <td>unstable</td>\n      <td>4.836866e-07</td>\n    </tr>\n    <tr>\n      <th>9980</th>\n      <td>4.141337</td>\n      <td>1.112868</td>\n      <td>8.400888</td>\n      <td>1.869624</td>\n      <td>3.671563</td>\n      <td>-0.699052</td>\n      <td>-1.513896</td>\n      <td>-1.458615</td>\n      <td>0.081811</td>\n      <td>0.094963</td>\n      <td>0.662959</td>\n      <td>0.169682</td>\n      <td>-0.032192</td>\n      <td>stable</td>\n      <td>stable</td>\n      <td>4.782983e-05</td>\n    </tr>\n    <tr>\n      <th>9987</th>\n      <td>3.176332</td>\n      <td>5.101491</td>\n      <td>8.134258</td>\n      <td>4.985496</td>\n      <td>3.031084</td>\n      <td>-0.957564</td>\n      <td>-1.102893</td>\n      <td>-0.970628</td>\n      <td>0.527206</td>\n      <td>0.774756</td>\n      <td>0.180754</td>\n      <td>0.209837</td>\n      <td>0.010610</td>\n      <td>unstable</td>\n      <td>unstable</td>\n      <td>1.443248e-04</td>\n    </tr>\n    <tr>\n      <th>9996</th>\n      <td>3.392299</td>\n      <td>1.274827</td>\n      <td>2.954947</td>\n      <td>6.894759</td>\n      <td>4.349512</td>\n      <td>-1.663661</td>\n      <td>-0.952437</td>\n      <td>-1.733414</td>\n      <td>0.502079</td>\n      <td>0.567242</td>\n      <td>0.285880</td>\n      <td>0.366120</td>\n      <td>-0.025803</td>\n      <td>stable</td>\n      <td>stable</td>\n      <td>9.375329e-04</td>\n    </tr>\n  </tbody>\n</table>\n<p>2026 rows × 16 columns</p>\n</div>"
     },
     "execution_count": 10,
     "metadata": {},
     "output_type": "execute_result"
    }
   ],
   "source": [
    "result"
   ],
   "metadata": {
    "collapsed": false,
    "pycharm": {
     "name": "#%%\n"
    }
   }
  },
  {
   "cell_type": "code",
   "execution_count": 11,
   "outputs": [
    {
     "data": {
      "text/plain": "tau1          728\ntau2          728\ntau3          728\ntau4          728\np1            728\np2            728\np3            728\np4            728\ng1            728\ng2            728\ng3            728\ng4            728\nstab          728\nstabf         728\nprediction    728\naccuracy      728\ndtype: int64"
     },
     "execution_count": 11,
     "metadata": {},
     "output_type": "execute_result"
    }
   ],
   "source": [
    "result.where(result[model['target']] == 'stable').dropna().where(result[model['target']] == result[\"prediction\"]).count()"
   ],
   "metadata": {
    "collapsed": false,
    "pycharm": {
     "name": "#%%\n"
    }
   }
  },
  {
   "cell_type": "code",
   "execution_count": 12,
   "outputs": [
    {
     "name": "stdout",
     "output_type": "stream",
     "text": [
      "=== Detailed Accuracy By Class ===\n",
      "Class: unstable\n",
      "TP Rate: 0.958139534883721\n",
      "FP Rate: 0.010869565217391304\n",
      "Precision: 0.9887828037773255\n",
      "Recall: 0.958139534883721\n",
      "F-Score: 0.9732200169461062\n",
      "MCC: 0.9477251936344797\n",
      "\n",
      "Class: stable\n",
      "TP Rate: 0.9891304347826086\n",
      "FP Rate: 0.04186046511627907\n",
      "Precision: 0.9593978325896141\n",
      "Recall: 0.9891304347826086\n",
      "F-Score: 0.9740372887262589\n",
      "MCC: 0.9477251936344797\n",
      "\n"
     ]
    }
   ],
   "source": [
    "print(\"=== Detailed Accuracy By Class ===\")\n",
    "count = result['prediction'].count()\n",
    "for c in model['classes']:\n",
    "\n",
    "    print(\"Class: \" + c)\n",
    "    df_c = result.where(result[model['target']] == c).dropna()\n",
    "    df_nc = result.where(result[model['target']] != c).dropna()\n",
    "    tp_rate = df_c.where(result[model['target']] == result[\"prediction\"])['prediction'].count() / df_c['prediction'].count()\n",
    "    tn_rate = df_nc.where(result[model['target']] == result[\"prediction\"])['prediction'].count() / df_nc['prediction'].count()\n",
    "    fp_rate =  df_nc.where(c == result[\"prediction\"])['prediction'].count() / df_nc['prediction'].count()\n",
    "    fn_rate =  df_c.where(c != result[\"prediction\"])['prediction'].count() / df_c['prediction'].count()\n",
    "    precision = tp_rate / (tp_rate + fp_rate)\n",
    "    recall = tp_rate / (tp_rate + fn_rate)\n",
    "    f_score = 2 * (precision * recall) / (precision + recall)\n",
    "    mcc = (tp_rate * tn_rate - fp_rate * fn_rate) / math.sqrt((tp_rate + fp_rate) * (tp_rate + fn_rate) * (tn_rate + fp_rate) * (tn_rate + fn_rate))\n",
    "    print(\"TP Rate: \" + str(tp_rate))\n",
    "    print(\"FP Rate: \" + str(fp_rate))\n",
    "    print(\"Precision: \" + str(precision))\n",
    "    print(\"Recall: \" + str(recall))\n",
    "    print(\"F-Score: \" + str(f_score))\n",
    "    print(\"MCC: \" + str(mcc))\n",
    "\n",
    "\n",
    "    print()"
   ],
   "metadata": {
    "collapsed": false,
    "pycharm": {
     "name": "#%%\n"
    }
   }
  },
  {
   "cell_type": "code",
   "execution_count": 30,
   "outputs": [
    {
     "name": "stdout",
     "output_type": "stream",
     "text": [
      "Numberbof mislabeled points out of a total 2026 points : 46\n"
     ]
    }
   ],
   "source": [
    "from sklearn.model_selection import train_test_split\n",
    "from sklearn.naive_bayes import GaussianNB\n",
    "\n",
    "\n",
    "y_train = train[\"stabf\"]\n",
    "y_test = test[\"stabf\"]\n",
    "\n",
    "x_train = train.drop(columns=[\"stabf\"])\n",
    "x_test= test.drop(columns=[\"stabf\"])\n",
    "\n",
    "gnb = GaussianNB()\n",
    "\n",
    "y_pred = gnb.fit(x_train, y_train).predict(x_test)\n",
    "print(\"Numberbof mislabeled points out of a total %d points : %d\" % (x_test.shape[0], (y_test != y_pred).sum()))"
   ],
   "metadata": {
    "collapsed": false,
    "pycharm": {
     "name": "#%%\n"
    }
   }
  },
  {
   "cell_type": "code",
   "execution_count": 34,
   "outputs": [
    {
     "data": {
      "text/plain": "(array([0.96495957, 0.98442368]),\n array([0.97282609, 0.97984496]),\n array([0.96887686, 0.98212898]),\n array([ 736, 1290], dtype=int64))"
     },
     "execution_count": 34,
     "metadata": {},
     "output_type": "execute_result"
    }
   ],
   "source": [
    "from sklearn.metrics import precision_recall_fscore_support\n",
    "precision_recall_fscore_support(y_test, y_pred, average=None)"
   ],
   "metadata": {
    "collapsed": false,
    "pycharm": {
     "name": "#%%\n"
    }
   }
  }
 ],
 "metadata": {
  "kernelspec": {
   "display_name": "Python 3",
   "language": "python",
   "name": "python3"
  },
  "language_info": {
   "codemirror_mode": {
    "name": "ipython",
    "version": 2
   },
   "file_extension": ".py",
   "mimetype": "text/x-python",
   "name": "python",
   "nbconvert_exporter": "python",
   "pygments_lexer": "ipython2",
   "version": "2.7.6"
  }
 },
 "nbformat": 4,
 "nbformat_minor": 0
}