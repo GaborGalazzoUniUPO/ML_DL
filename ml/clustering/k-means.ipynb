{
 "cells": [
  {
   "cell_type": "code",
   "execution_count": 56,
   "metadata": {
    "collapsed": true,
    "pycharm": {
     "name": "#%%\n"
    }
   },
   "outputs": [],
   "source": [
    "import pandas as pd\n",
    "import math as m"
   ]
  },
  {
   "cell_type": "code",
   "execution_count": 57,
   "outputs": [
    {
     "data": {
      "text/plain": "   'MFCCs_ 1'  'MFCCs_ 2'  'MFCCs_ 3'  'MFCCs_ 4'  'MFCCs_ 5'  'MFCCs_ 6'  \\\n0         1.0    0.493693    0.230108    0.457262    0.686625    0.488253   \n1         1.0    0.504810    0.234712    0.503234    0.702091    0.493774   \n2         1.0    0.493323    0.245855    0.515934    0.656957    0.436679   \n3         1.0    0.536404    0.386491    0.544660    0.726162    0.561174   \n4         1.0    0.454770    0.256042    0.529406    0.696509    0.479800   \n\n   'MFCCs_ 7'  'MFCCs_ 8'  'MFCCs_ 9'  MFCCs_10  ...  MFCCs_14  MFCCs_15  \\\n0    0.415812    0.377963    0.314020  0.730114  ...  0.576802  0.615338   \n1    0.389749    0.313783    0.286431  0.761439  ...  0.525813  0.635227   \n2    0.355882    0.296270    0.277784  0.803239  ...  0.549828  0.666985   \n3    0.360292    0.338713    0.369060  0.828890  ...  0.496354  0.589842   \n4    0.354693    0.275717    0.312834  0.826219  ...  0.538379  0.675508   \n\n   MFCCs_16  MFCCs_17  MFCCs_18  MFCCs_19  MFCCs_20  MFCCs_21  MFCCs_22  \\\n0  0.405908  0.283982  0.496364  0.534822  0.505537  0.669615  0.484704   \n1  0.436727  0.299741  0.511737  0.514315  0.460275  0.625237  0.503209   \n2  0.497882  0.336274  0.535706  0.489280  0.405755  0.645765  0.562490   \n3  0.383497  0.258898  0.423977  0.438460  0.369970  0.502213  0.496923   \n4  0.480182  0.337913  0.514239  0.471886  0.398205  0.657343  0.565055   \n\n          Species  \n0  AdenomeraAndre  \n1  AdenomeraAndre  \n2  AdenomeraAndre  \n3  AdenomeraAndre  \n4  AdenomeraAndre  \n\n[5 rows x 23 columns]",
      "text/html": "<div>\n<style scoped>\n    .dataframe tbody tr th:only-of-type {\n        vertical-align: middle;\n    }\n\n    .dataframe tbody tr th {\n        vertical-align: top;\n    }\n\n    .dataframe thead th {\n        text-align: right;\n    }\n</style>\n<table border=\"1\" class=\"dataframe\">\n  <thead>\n    <tr style=\"text-align: right;\">\n      <th></th>\n      <th>'MFCCs_ 1'</th>\n      <th>'MFCCs_ 2'</th>\n      <th>'MFCCs_ 3'</th>\n      <th>'MFCCs_ 4'</th>\n      <th>'MFCCs_ 5'</th>\n      <th>'MFCCs_ 6'</th>\n      <th>'MFCCs_ 7'</th>\n      <th>'MFCCs_ 8'</th>\n      <th>'MFCCs_ 9'</th>\n      <th>MFCCs_10</th>\n      <th>...</th>\n      <th>MFCCs_14</th>\n      <th>MFCCs_15</th>\n      <th>MFCCs_16</th>\n      <th>MFCCs_17</th>\n      <th>MFCCs_18</th>\n      <th>MFCCs_19</th>\n      <th>MFCCs_20</th>\n      <th>MFCCs_21</th>\n      <th>MFCCs_22</th>\n      <th>Species</th>\n    </tr>\n  </thead>\n  <tbody>\n    <tr>\n      <th>0</th>\n      <td>1.0</td>\n      <td>0.493693</td>\n      <td>0.230108</td>\n      <td>0.457262</td>\n      <td>0.686625</td>\n      <td>0.488253</td>\n      <td>0.415812</td>\n      <td>0.377963</td>\n      <td>0.314020</td>\n      <td>0.730114</td>\n      <td>...</td>\n      <td>0.576802</td>\n      <td>0.615338</td>\n      <td>0.405908</td>\n      <td>0.283982</td>\n      <td>0.496364</td>\n      <td>0.534822</td>\n      <td>0.505537</td>\n      <td>0.669615</td>\n      <td>0.484704</td>\n      <td>AdenomeraAndre</td>\n    </tr>\n    <tr>\n      <th>1</th>\n      <td>1.0</td>\n      <td>0.504810</td>\n      <td>0.234712</td>\n      <td>0.503234</td>\n      <td>0.702091</td>\n      <td>0.493774</td>\n      <td>0.389749</td>\n      <td>0.313783</td>\n      <td>0.286431</td>\n      <td>0.761439</td>\n      <td>...</td>\n      <td>0.525813</td>\n      <td>0.635227</td>\n      <td>0.436727</td>\n      <td>0.299741</td>\n      <td>0.511737</td>\n      <td>0.514315</td>\n      <td>0.460275</td>\n      <td>0.625237</td>\n      <td>0.503209</td>\n      <td>AdenomeraAndre</td>\n    </tr>\n    <tr>\n      <th>2</th>\n      <td>1.0</td>\n      <td>0.493323</td>\n      <td>0.245855</td>\n      <td>0.515934</td>\n      <td>0.656957</td>\n      <td>0.436679</td>\n      <td>0.355882</td>\n      <td>0.296270</td>\n      <td>0.277784</td>\n      <td>0.803239</td>\n      <td>...</td>\n      <td>0.549828</td>\n      <td>0.666985</td>\n      <td>0.497882</td>\n      <td>0.336274</td>\n      <td>0.535706</td>\n      <td>0.489280</td>\n      <td>0.405755</td>\n      <td>0.645765</td>\n      <td>0.562490</td>\n      <td>AdenomeraAndre</td>\n    </tr>\n    <tr>\n      <th>3</th>\n      <td>1.0</td>\n      <td>0.536404</td>\n      <td>0.386491</td>\n      <td>0.544660</td>\n      <td>0.726162</td>\n      <td>0.561174</td>\n      <td>0.360292</td>\n      <td>0.338713</td>\n      <td>0.369060</td>\n      <td>0.828890</td>\n      <td>...</td>\n      <td>0.496354</td>\n      <td>0.589842</td>\n      <td>0.383497</td>\n      <td>0.258898</td>\n      <td>0.423977</td>\n      <td>0.438460</td>\n      <td>0.369970</td>\n      <td>0.502213</td>\n      <td>0.496923</td>\n      <td>AdenomeraAndre</td>\n    </tr>\n    <tr>\n      <th>4</th>\n      <td>1.0</td>\n      <td>0.454770</td>\n      <td>0.256042</td>\n      <td>0.529406</td>\n      <td>0.696509</td>\n      <td>0.479800</td>\n      <td>0.354693</td>\n      <td>0.275717</td>\n      <td>0.312834</td>\n      <td>0.826219</td>\n      <td>...</td>\n      <td>0.538379</td>\n      <td>0.675508</td>\n      <td>0.480182</td>\n      <td>0.337913</td>\n      <td>0.514239</td>\n      <td>0.471886</td>\n      <td>0.398205</td>\n      <td>0.657343</td>\n      <td>0.565055</td>\n      <td>AdenomeraAndre</td>\n    </tr>\n  </tbody>\n</table>\n<p>5 rows × 23 columns</p>\n</div>"
     },
     "execution_count": 57,
     "metadata": {},
     "output_type": "execute_result"
    }
   ],
   "source": [
    "df = pd.read_csv(\"data/frog-normalized.csv\")\n",
    "df.head()\n"
   ],
   "metadata": {
    "collapsed": false,
    "pycharm": {
     "name": "#%%\n"
    }
   }
  },
  {
   "cell_type": "code",
   "execution_count": 58,
   "outputs": [],
   "source": [
    "cluster_association = [i for i in range(len(df))]\n",
    "cluster_centroid  = [tuple(x) for x in df.to_numpy()]"
   ],
   "metadata": {
    "collapsed": false,
    "pycharm": {
     "name": "#%%\n"
    }
   }
  },
  {
   "cell_type": "code",
   "execution_count": 59,
   "outputs": [],
   "source": [
    "def distance(a, b):\n",
    "    q = 0\n",
    "    for i in range(len(a) - 1):\n",
    "        q+= (a[i] - b[i]) ** 2\n",
    "    return m.sqrt(q)"
   ],
   "metadata": {
    "collapsed": false,
    "pycharm": {
     "name": "#%%\n"
    }
   }
  },
  {
   "cell_type": "code",
   "execution_count": 60,
   "outputs": [],
   "source": [
    "c_count = len(cluster_centroid)"
   ],
   "metadata": {
    "collapsed": false,
    "pycharm": {
     "name": "#%%\n"
    }
   }
  },
  {
   "cell_type": "code",
   "execution_count": 69,
   "outputs": [],
   "source": [
    "import heapq\n",
    "heap = []\n",
    "for i in range(c_count):\n",
    "    for j in range(c_count):\n",
    "        if i < j:\n",
    "            heapq.heappush(heap, (distance(cluster_centroid[i], cluster_centroid[j]), (i, j)))\n"
   ],
   "metadata": {
    "collapsed": false,
    "pycharm": {
     "name": "#%%\n"
    }
   }
  },
  {
   "cell_type": "code",
   "execution_count": 71,
   "outputs": [
    {
     "data": {
      "text/plain": "[(0.004994308760979873, (7038, 7040)),\n (0.006284202892968972, (7038, 7041)),\n (0.006561473157759648, (7035, 7038)),\n (0.006942105732412875, (7040, 7041)),\n (0.007026637816196323, (7035, 7036)),\n (0.007506367830049374, (7035, 7040)),\n (0.0076388977608029315, (7041, 7042)),\n (0.007668483878838106, (7040, 7042)),\n (0.007994758908184768, (7034, 7035)),\n (0.008272479857938678, (7038, 7039))]"
     },
     "execution_count": 71,
     "metadata": {},
     "output_type": "execute_result"
    }
   ],
   "source": [
    "heapq.nsmallest(10, heap)"
   ],
   "metadata": {
    "collapsed": false,
    "pycharm": {
     "name": "#%%\n"
    }
   }
  },
  {
   "cell_type": "code",
   "execution_count": 63,
   "outputs": [
    {
     "data": {
      "text/plain": "0.1552617819844923"
     },
     "execution_count": 63,
     "metadata": {},
     "output_type": "execute_result"
    }
   ],
   "source": [
    "distance(cluster_centroid[1], cluster_centroid[2])"
   ],
   "metadata": {
    "collapsed": false,
    "pycharm": {
     "name": "#%%\n"
    }
   }
  },
  {
   "cell_type": "code",
   "execution_count": 68,
   "outputs": [
    {
     "data": {
      "text/plain": "[(0.1, 'a'), (0.2, 'b'), (0.3, 'c')]"
     },
     "execution_count": 68,
     "metadata": {},
     "output_type": "execute_result"
    }
   ],
   "source": [
    "h = []\n",
    "heapq.heappush(h, (0.1, 'a'))\n",
    "heapq.heappush(h, (0.2, 'b'))\n",
    "heapq.heappush(h, (0.3, 'c'))\n",
    "heapq.nsmallest(3, h)"
   ],
   "metadata": {
    "collapsed": false,
    "pycharm": {
     "name": "#%%\n"
    }
   }
  }
 ],
 "metadata": {
  "kernelspec": {
   "display_name": "Python 3",
   "language": "python",
   "name": "python3"
  },
  "language_info": {
   "codemirror_mode": {
    "name": "ipython",
    "version": 2
   },
   "file_extension": ".py",
   "mimetype": "text/x-python",
   "name": "python",
   "nbconvert_exporter": "python",
   "pygments_lexer": "ipython2",
   "version": "2.7.6"
  }
 },
 "nbformat": 4,
 "nbformat_minor": 0
}